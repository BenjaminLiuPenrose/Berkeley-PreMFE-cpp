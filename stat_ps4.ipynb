{
 "cells": [
  {
   "cell_type": "markdown",
   "metadata": {},
   "source": [
    "# Stat - Problem Set 4"
   ]
  },
  {
   "cell_type": "code",
   "execution_count": 1,
   "metadata": {},
   "outputs": [],
   "source": [
    "import pandas as pd\n",
    "import numpy as np\n",
    "import matplotlib.pyplot as plt\n",
    "import seaborn as sns; sns.set_style(\"dark\")"
   ]
  },
  {
   "cell_type": "markdown",
   "metadata": {},
   "source": [
    "## Problem 5"
   ]
  },
  {
   "cell_type": "code",
   "execution_count": 2,
   "metadata": {},
   "outputs": [],
   "source": [
    "M = 500\n",
    "N = 10000\n",
    "nLs = [5, 10, 100, 500, 1000, 10000]"
   ]
  },
  {
   "cell_type": "code",
   "execution_count": 3,
   "metadata": {},
   "outputs": [],
   "source": [
    "def sampleFromtDist(M = 500, N = 10000, niu = 100):\n",
    "    \"\"\"\n",
    "    M - int, # of random samples\n",
    "    N - int, length of each sample\n",
    "    niu - int, t_niu distribution, default at 100\n",
    "    \n",
    "    rtn - np.array (M, N)\n",
    "    \"\"\"\n",
    "    rtn = []\n",
    "    \n",
    "    for _ in range(M):\n",
    "        rtn.append(\n",
    "            np.random.standard_t(\n",
    "                niu, \n",
    "                size = N\n",
    "            )\n",
    "        )\n",
    "    \n",
    "    rtn = np.array(rtn)\n",
    "    assert(rtn.shape == (M, N))\n",
    "    return rtn"
   ]
  },
  {
   "cell_type": "code",
   "execution_count": 4,
   "metadata": {},
   "outputs": [],
   "source": [
    "def computeSampleMeanSingle(sample, nLs = [5, 10, 100, 500, 1000, 10000]):\n",
    "    \"\"\"\n",
    "    sample - np.array, single sample\n",
    "    nLs - list of int, compute mean of first n sample\n",
    "    \n",
    "    rtn - np.array (1, len(nLs))\n",
    "    \"\"\"\n",
    "    rtn = []\n",
    "    length = sample.shape[0]\n",
    "    \n",
    "    for n in nLs:\n",
    "        if n <= length:\n",
    "            rtn.append(\n",
    "                np.mean(\n",
    "                    sample[:n]\n",
    "                )\n",
    "            )\n",
    "        else:\n",
    "            print(\"[ERR:] n {} is larger than the sample size {}\".format(\n",
    "                n,\n",
    "                length\n",
    "            ))\n",
    "    \n",
    "    rtn = np.array(rtn)\n",
    "    assert( rtn.shape[0] == len(nLs))\n",
    "    return rtn"
   ]
  },
  {
   "cell_type": "code",
   "execution_count": 5,
   "metadata": {},
   "outputs": [],
   "source": [
    "def computeSampleMeanMultiple(sample, nLs = [5, 10, 100, 500, 1000, 10000]):\n",
    "    \"\"\"\n",
    "    sample - np.array, sample\n",
    "    nLs - list of int, compute mean of first n sample\n",
    "    \n",
    "    rtn - np.array (M, len(nLs))\n",
    "    \"\"\"\n",
    "    M = sample.shape[0]\n",
    "    rtn = []\n",
    "    \n",
    "    for m in range(M):\n",
    "        rtn.append(\n",
    "            computeSampleMeanSingle(\n",
    "                sample = sample[m],\n",
    "                nLs = nLs\n",
    "            )\n",
    "        )\n",
    "        \n",
    "    rtn = np.array(rtn)\n",
    "    assert (rtn.shape == (M, len(nLs)))\n",
    "    return rtn"
   ]
  },
  {
   "cell_type": "code",
   "execution_count": 6,
   "metadata": {},
   "outputs": [],
   "source": [
    "def computeSampleMeanStat(sampleMean):\n",
    "    \"\"\"\n",
    "    sampleMeanN - np.array\n",
    "    \n",
    "    rtn - dict {mean:, std:, var:}\n",
    "    \"\"\"\n",
    "    M, n = sampleMean.shape\n",
    "    rtn = {}\n",
    "    \n",
    "    mean = np.mean(sampleMean, axis = 0)\n",
    "    std = np.std(sampleMean, axis = 0)\n",
    "    var = np.var(sampleMean, axis = 0)\n",
    "    \n",
    "    rtn = {\n",
    "        \"mean\": mean,\n",
    "        \"std\": std,\n",
    "        \"var\": var\n",
    "    }\n",
    "    return rtn"
   ]
  },
  {
   "cell_type": "markdown",
   "metadata": {},
   "source": [
    "#### Question (a) - (c)"
   ]
  },
  {
   "cell_type": "code",
   "execution_count": 7,
   "metadata": {},
   "outputs": [
    {
     "data": {
      "text/plain": [
       "{'mean': array([0.01643002, 0.01158092, 0.00056643, 0.00207954, 0.00158264,\n",
       "        0.00027044]),\n",
       " 'std': array([0.43982442, 0.32648308, 0.10223209, 0.0454418 , 0.0328239 ,\n",
       "        0.00988473]),\n",
       " 'var': array([1.93445517e-01, 1.06591199e-01, 1.04514011e-02, 2.06495687e-03,\n",
       "        1.07740822e-03, 9.77078428e-05])}"
      ]
     },
     "execution_count": 7,
     "metadata": {},
     "output_type": "execute_result"
    }
   ],
   "source": [
    "### Question (a), sample from t_100\n",
    "sample = sampleFromtDist()\n",
    "### Question (b), compute sample mean\n",
    "# computeSampleMeanSingle(sample[0])\n",
    "sampleMean = computeSampleMeanMultiple(sample)\n",
    "### Question (c), compute mean, std, var for sample mean\n",
    "sampleMeanStatDict = computeSampleMeanStat(sampleMean)\n",
    "sampleMeanStatDict"
   ]
  },
  {
   "cell_type": "markdown",
   "metadata": {},
   "source": [
    "#### Question (d)"
   ]
  },
  {
   "cell_type": "code",
   "execution_count": 8,
   "metadata": {},
   "outputs": [],
   "source": [
    "sampleMeanPlot = sampleMean.T"
   ]
  },
  {
   "cell_type": "code",
   "execution_count": 9,
   "metadata": {},
   "outputs": [
    {
     "data": {
      "image/png": "[encoded data removed]",
      "text/plain": [
       "<Figure size 432x288 with 1 Axes>"
      ]
     },
     "metadata": {},
     "output_type": "display_data"
    }
   ],
   "source": [
    "n, M = sampleMeanPlot.shape\n",
    "\n",
    "sns.distplot(\n",
    "    a = sampleMeanPlot[0],\n",
    "    kde = True,\n",
    "    rug = False,\n",
    "    hist = True,\n",
    "    bins = 50\n",
    ")\n",
    "plt.title(\"Sample mean dist - M is {},  n is {}\".format(M, nLs[0]));"
   ]
  },
  {
   "cell_type": "code",
   "execution_count": 10,
   "metadata": {},
   "outputs": [
    {
     "data": {
      "image/png": "[encoded data removed]",
      "text/plain": [
       "<Figure size 432x288 with 1 Axes>"
      ]
     },
     "metadata": {},
     "output_type": "display_data"
    }
   ],
   "source": [
    "sns.distplot(\n",
    "    a = sampleMeanPlot[1],\n",
    "    kde = True,\n",
    "    rug = False,\n",
    "    hist = True,\n",
    "    bins = 50\n",
    ")\n",
    "plt.title(\"Sample mean dist - M is {},  n is {}\".format(M, nLs[1]));"
   ]
  },
  {
   "cell_type": "code",
   "execution_count": 11,
   "metadata": {},
   "outputs": [
    {
     "data": {
      "image/png": "[encoded data removed]",
      "text/plain": [
       "<Figure size 432x288 with 1 Axes>"
      ]
     },
     "metadata": {},
     "output_type": "display_data"
    }
   ],
   "source": [
    "sns.distplot(\n",
    "    a = sampleMeanPlot[2],\n",
    "    kde = True,\n",
    "    rug = False,\n",
    "    hist = True,\n",
    "    bins = 50\n",
    ")\n",
    "plt.title(\"Sample mean dist - M is {},  n is {}\".format(M, nLs[2]));"
   ]
  },
  {
   "cell_type": "code",
   "execution_count": 12,
   "metadata": {},
   "outputs": [
    {
     "data": {
      "image/png": "[encoded data removed]",
      "text/plain": [
       "<Figure size 432x288 with 1 Axes>"
      ]
     },
     "metadata": {},
     "output_type": "display_data"
    }
   ],
   "source": [
    "sns.distplot(\n",
    "    a = sampleMeanPlot[3],\n",
    "    kde = True,\n",
    "    rug = False,\n",
    "    hist = True,\n",
    "    bins = 50\n",
    ")\n",
    "plt.title(\"Sample mean dist - M is {},  n is {}\".format(M, nLs[3]));"
   ]
  },
  {
   "cell_type": "code",
   "execution_count": 13,
   "metadata": {},
   "outputs": [
    {
     "data": {
      "image/png": "[encoded data removed]",
      "text/plain": [
       "<Figure size 432x288 with 1 Axes>"
      ]
     },
     "metadata": {},
     "output_type": "display_data"
    }
   ],
   "source": [
    "sns.distplot(\n",
    "    a = sampleMeanPlot[4],\n",
    "    kde = True,\n",
    "    rug = False,\n",
    "    hist = True,\n",
    "    bins = 50\n",
    ")\n",
    "plt.title(\"Sample mean dist - M is {},  n is {}\".format(M, nLs[4]));"
   ]
  },
  {
   "cell_type": "code",
   "execution_count": 14,
   "metadata": {},
   "outputs": [
    {
     "data": {
      "image/png": "[encoded data removed]",
      "text/plain": [
       "<Figure size 432x288 with 1 Axes>"
      ]
     },
     "metadata": {},
     "output_type": "display_data"
    }
   ],
   "source": [
    "sns.distplot(\n",
    "    a = sampleMeanPlot[5],\n",
    "    kde = True,\n",
    "    rug = False,\n",
    "    hist = True,\n",
    "    bins = 50\n",
    ")\n",
    "plt.title(\"Sample mean dist - M is {},  n is {}\".format(M, nLs[5]));"
   ]
  },
  {
   "cell_type": "markdown",
   "metadata": {},
   "source": [
    "#### Question (e)"
   ]
  },
  {
   "cell_type": "markdown",
   "metadata": {},
   "source": [
    "- LLN:\n",
    "    LLN implies that the mean of sample mean $\\rightarrow 0$ as $n \\rightarrow \\infty$ \n",
    "- CLT:\n",
    "    CLT implies that the dist of sample mean tends to, in distribution, normal distribution as $n \\rightarrow \\infty$ "
   ]
  },
  {
   "cell_type": "markdown",
   "metadata": {},
   "source": [
    "#### Question (f)"
   ]
  },
  {
   "cell_type": "code",
   "execution_count": 15,
   "metadata": {},
   "outputs": [],
   "source": [
    "def experimentSingle(niu, M = 500, N = 10000, nLs =  [5, 10, 100, 500, 1000, 10000]):\n",
    "#     sample = sampleFromtDist(M, N, niu)\n",
    "#     sampleMean = computeSampleMeanMultiple(sample)\n",
    "#     sampleMeanStatDict = computeSampleMeanStat(sampleMean)\n",
    "    return computeSampleMeanStat(\n",
    "        sampleMean = computeSampleMeanMultiple(\n",
    "            sample = sampleFromtDist(\n",
    "                M = M, \n",
    "                N = N, \n",
    "                niu = niu\n",
    "            ),\n",
    "            nLs = nLs\n",
    "        )\n",
    "    )"
   ]
  },
  {
   "cell_type": "code",
   "execution_count": 16,
   "metadata": {},
   "outputs": [
    {
     "name": "stdout",
     "output_type": "stream",
     "text": [
      "niu is 10, stats are {'mean': array([ 0.04395236,  0.00937579, -0.00330559,  0.00391393,  0.00163499,\n",
      "        0.00040964]), 'std': array([0.50342661, 0.35329065, 0.10630545, 0.05011354, 0.03705102,\n",
      "       0.01114174]), 'var': array([2.53438350e-01, 1.24814282e-01, 1.13008484e-02, 2.51136645e-03,\n",
      "       1.37277784e-03, 1.24138383e-04])}\n",
      "niu is 5, stats are {'mean': array([ 0.00018323,  0.00197095,  0.00108104,  0.00124236,  0.00118946,\n",
      "       -0.00013175]), 'std': array([0.53262178, 0.39748313, 0.13104533, 0.05522858, 0.04076498,\n",
      "       0.01233782]), 'var': array([2.83685956e-01, 1.57992842e-01, 1.71728773e-02, 3.05019604e-03,\n",
      "       1.66178381e-03, 1.52221834e-04])}\n",
      "niu is 2, stats are {'mean': array([-0.07079034, -0.02948851,  0.00234231, -0.01497252, -0.0011929 ,\n",
      "        0.00063155]), 'std': array([1.61724467, 1.01585856, 0.35096595, 0.15276665, 0.11148434,\n",
      "       0.0667593 ]), 'var': array([2.61548033, 1.03196861, 0.1231771 , 0.02333765, 0.01242876,\n",
      "       0.0044568 ])}\n",
      "niu is 1, stats are {'mean': array([-0.17886954,  0.03752962,  0.47944685,  0.13093394, -0.35768373,\n",
      "        2.0555667 ]), 'std': array([26.56533327, 19.87876575, 21.60671714, 13.0168839 , 10.2972528 ,\n",
      "       38.7253687 ]), 'var': array([ 705.71693164,  395.16532772,  466.85022574,  169.43926655,\n",
      "        106.03341523, 1499.65418063])}\n",
      "niu is 0.5, stats are {'mean': array([  -7600.64906863,   -4131.13250251,  -16989.66729885,\n",
      "         98901.01193289,    8221.00363194, -610662.07659593]), 'std': array([  186283.21530983,   109662.99753955,   606379.70880575,\n",
      "        1888719.90708689,  1168581.3467202 , 47723346.48455009]), 'var': array([3.47014363e+10, 1.20259730e+10, 3.67696351e+11, 3.56726289e+12,\n",
      "       1.36558236e+12, 2.27751780e+15])}\n"
     ]
    }
   ],
   "source": [
    "niuLs = [10, 5, 2, 1, 0.5]\n",
    "\n",
    "for niu in niuLs:\n",
    "    statDict = experimentSingle(niu, M, N, nLs)\n",
    "    print(\"niu is {}, stats are {}\".format(niu, statDict))\n"
   ]
  },
  {
   "cell_type": "markdown",
   "metadata": {},
   "source": [
    "#### Question (g)\n",
    "- As niu $\\rightarrow \\infty$, the limiting behavior of sample mean converge to normal distribution quicker. "
   ]
  },
  {
   "cell_type": "markdown",
   "metadata": {},
   "source": [
    "## Problem 6"
   ]
  },
  {
   "cell_type": "markdown",
   "metadata": {},
   "source": [
    "#### Question (a) - change state 1, 2 to state 0, 1 for sake of simplification"
   ]
  },
  {
   "cell_type": "code",
   "execution_count": 17,
   "metadata": {},
   "outputs": [
    {
     "name": "stdout",
     "output_type": "stream",
     "text": [
      "at step 0, current state is 0\n",
      "at step 100, current state is 0\n",
      "at step 200, current state is 1\n",
      "at step 300, current state is 1\n",
      "at step 400, current state is 0\n",
      "at step 500, current state is 1\n",
      "at step 600, current state is 0\n",
      "at step 700, current state is 0\n",
      "at step 800, current state is 0\n",
      "at step 900, current state is 1\n"
     ]
    }
   ],
   "source": [
    "stateTranProb = [\n",
    "    [0.75, 0.25],\n",
    "    [0.6, 0.4]\n",
    "]\n",
    "initState = 0\n",
    "steps = 1000\n",
    "path = [initState]\n",
    "\n",
    "curState = initState\n",
    "for step in range(steps):\n",
    "    curState = 0 if np.random.random() < stateTranProb[curState][0] else 1\n",
    "    path.append(curState)\n",
    "    if step % 100 == 0:\n",
    "        print(\"at step {}, current state is {}\".format(step, curState))\n",
    "# print(path)"
   ]
  },
  {
   "cell_type": "markdown",
   "metadata": {},
   "source": [
    "#### Question (b)"
   ]
  },
  {
   "cell_type": "code",
   "execution_count": 18,
   "metadata": {},
   "outputs": [
    {
     "name": "stderr",
     "output_type": "stream",
     "text": [
      "C:\\Python36\\lib\\site-packages\\scipy\\stats\\stats.py:1713: FutureWarning: Using a non-tuple sequence for multidimensional indexing is deprecated; use `arr[tuple(seq)]` instead of `arr[seq]`. In the future this will be interpreted as an array index, `arr[np.array(seq)]`, which will result either in an error or a different result.\n",
      "  return np.add.reduce(sorted[indexer] * weights, axis=axis) / sumval\n"
     ]
    },
    {
     "data": {
      "image/png": "[encoded data removed]",
      "text/plain": [
       "<Figure size 432x288 with 1 Axes>"
      ]
     },
     "metadata": {},
     "output_type": "display_data"
    }
   ],
   "source": [
    "sns.distplot(\n",
    "    a = path,\n",
    "    kde = False,\n",
    "    rug = False,\n",
    "    hist = True\n",
    ")\n",
    "plt.title(\"Distribution of one sample path\");"
   ]
  },
  {
   "cell_type": "code",
   "execution_count": 19,
   "metadata": {},
   "outputs": [
    {
     "name": "stdout",
     "output_type": "stream",
     "text": [
      "sample dist is [0.6953046953046953, 0.3046953046953047]\n",
      " stationary dist is [0.7058823529411765, 0.29411764705882354]\n",
      "\n"
     ]
    }
   ],
   "source": [
    "sampleProb = [\n",
    "    1 - sum(path) / len(path), \n",
    "    sum(path) / len(path)\n",
    "]\n",
    "\n",
    "stationaryDist = [\n",
    "    12 / 17,\n",
    "    5 / 17\n",
    "]\n",
    "print(\n",
    "    \"sample dist is {}\\n\".format(sampleProb),\n",
    "    \"stationary dist is {}\\n\".format(stationaryDist)\n",
    ")"
   ]
  }
 ],
 "metadata": {
  "kernelspec": {
   "display_name": "Python 3",
   "language": "python",
   "name": "python3"
  },
  "language_info": {
   "codemirror_mode": {
    "name": "ipython",
    "version": 3
   },
   "file_extension": ".py",
   "mimetype": "text/x-python",
   "name": "python",
   "nbconvert_exporter": "python",
   "pygments_lexer": "ipython3",
   "version": "3.6.6"
  }
 },
 "nbformat": 4,
 "nbformat_minor": 2
}
